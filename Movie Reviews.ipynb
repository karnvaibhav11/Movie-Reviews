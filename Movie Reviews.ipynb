{
 "cells": [
  {
   "cell_type": "markdown",
   "metadata": {
    "id": "JP6ss_CojMw4"
   },
   "source": [
    "# Text Classification Exercise: Movie Reviews"
   ]
  },
  {
   "cell_type": "markdown",
   "metadata": {
    "id": "xONn7mqYjMw6"
   },
   "source": [
    "## Introduction\n",
    "\n",
    "This exercise uses the data from Kaggle's [IMDB Movie reviews](https://www.kaggle.com/c/word2vec-nlp-tutorial/data) competition.\n",
    "\n",
    "**Description of the data:**\n",
    "\n",
    "- **`labeledTrainData.tsv.zip`** contains the dataset.\n",
    "- Each observation in this dataset is a review of a movie by a user.\n",
    "- The **sentiment** column is the sentiment of the review (1 -> positive and 0 -> negative).\n",
    "- The **review** column is the text of the review."
   ]
  },
  {
   "cell_type": "markdown",
   "metadata": {
    "id": "xlJpnzDwjMw8"
   },
   "source": [
    "# **Goal:** Predict the sentiment of the review using the review text."
   ]
  },
  {
   "cell_type": "markdown",
   "metadata": {
    "id": "suvnxBMljMw9"
   },
   "source": [
    "## Task 1\n",
    "\n",
    "Read **`labeledTrainData.tsv.zip`** into a pandas DataFrame and examine it. Please note that pandas can directly read tsv/csv files inside a zip file."
   ]
  },
  {
   "cell_type": "markdown",
   "metadata": {
    "id": "OXDPlZp3jMw_"
   },
   "source": [
    "## Task 2\n",
    "\n",
    "Define X and y from the new DataFrame, and then split X and y into training and testing sets, using the **review** as the feature and the **sentiment** as the response.\n",
    "\n",
    "- **Hint:** Keep in mind that X should be a pandas Series (not a DataFrame), since we will pass it to CountVectorizer in the task that follows."
   ]
  },
  {
   "cell_type": "markdown",
   "metadata": {
    "id": "LAfxXoeZjMxA"
   },
   "source": [
    "## Task 3\n",
    "\n",
    "Use CountVectorizer to create **document-term matrices** from X_train and X_test."
   ]
  },
  {
   "cell_type": "markdown",
   "metadata": {
    "id": "kG7kVIqojMxB"
   },
   "source": [
    "## Task 4\n",
    "\n",
    "Use multinomial Naive Bayes to **predict the sentiment** for the reviews in the testing set, and then **calculate the accuracy** and **print the confusion matrix**."
   ]
  },
  {
   "cell_type": "markdown",
   "metadata": {
    "id": "Y-9ERAlfjMxD"
   },
   "source": [
    "## Task 5\n",
    "\n",
    "Calculate the **null accuracy**, which is the classification accuracy that could be achieved by always predicting the most frequent class."
   ]
  },
  {
   "cell_type": "markdown",
   "metadata": {
    "id": "gvduejPajMxG"
   },
   "source": [
    "## Task 6\n",
    "\n",
    "Use different **tuning parameters** e.g max_df, min_df, max_features etc to build models and check test accuracy.\n",
    "\n",
    "Hint:\n",
    "\n",
    "- You can write a function which accepts a vectorizer as a parameter and..\n",
    "- Create DTMs for Training and Test data\n",
    "- Trains a model (SVM)\n",
    "- Calculate the testing accuracy and prints the same\n",
    "\n",
    "Call the above function with Vectorizers object created using different tuning parameters. Use TF-IDF vectorizer for this task."
   ]
  },
  {
   "cell_type": "code",
   "execution_count": 1,
   "metadata": {
    "colab": {
     "base_uri": "https://localhost:8080/"
    },
    "executionInfo": {
     "elapsed": 1293,
     "status": "ok",
     "timestamp": 1618747529684,
     "user": {
      "displayName": "Sayan Dey",
      "photoUrl": "https://lh3.googleusercontent.com/a-/AOh14GgqVHJ9o6-7idGiRbNNd4iVc1VjzvuPnwmAnvEtD6U=s64",
      "userId": "03603580465490055794"
     },
     "user_tz": -330
    },
    "id": "evvJtcnyaeO_",
    "outputId": "80d08c8e-802a-41bf-f12c-4b6216a6d2f7",
    "scrolled": true
   },
   "outputs": [],
   "source": [
    "#from google.colab import drive\n",
    "#drive.mount('/gdrive')"
   ]
  },
  {
   "cell_type": "code",
   "execution_count": 2,
   "metadata": {
    "executionInfo": {
     "elapsed": 1181,
     "status": "ok",
     "timestamp": 1618747529685,
     "user": {
      "displayName": "Sayan Dey",
      "photoUrl": "https://lh3.googleusercontent.com/a-/AOh14GgqVHJ9o6-7idGiRbNNd4iVc1VjzvuPnwmAnvEtD6U=s64",
      "userId": "03603580465490055794"
     },
     "user_tz": -330
    },
    "id": "o84tU4KBruJK"
   },
   "outputs": [],
   "source": [
    "import pandas as pd\n",
    "import numpy as np"
   ]
  },
  {
   "cell_type": "code",
   "execution_count": 3,
   "metadata": {
    "executionInfo": {
     "elapsed": 1490,
     "status": "ok",
     "timestamp": 1618747530338,
     "user": {
      "displayName": "Sayan Dey",
      "photoUrl": "https://lh3.googleusercontent.com/a-/AOh14GgqVHJ9o6-7idGiRbNNd4iVc1VjzvuPnwmAnvEtD6U=s64",
      "userId": "03603580465490055794"
     },
     "user_tz": -330
    },
    "id": "WcQh6U1-aeOh"
   },
   "outputs": [],
   "source": [
    "# read file into pandas using a relative path. Please change the path as needed\n",
    "#sms_df = pd.read_table('/gdrive/My Drive/Statistical NLP AIML/labeledTrainData.tsv.zip')\n",
    "sms_df = pd.read_table('labeledTrainData.tsv.zip')"
   ]
  },
  {
   "cell_type": "code",
   "execution_count": 4,
   "metadata": {
    "colab": {
     "base_uri": "https://localhost:8080/"
    },
    "executionInfo": {
     "elapsed": 1376,
     "status": "ok",
     "timestamp": 1618747530338,
     "user": {
      "displayName": "Sayan Dey",
      "photoUrl": "https://lh3.googleusercontent.com/a-/AOh14GgqVHJ9o6-7idGiRbNNd4iVc1VjzvuPnwmAnvEtD6U=s64",
      "userId": "03603580465490055794"
     },
     "user_tz": -330
    },
    "id": "AoimIAMml8Gx",
    "outputId": "201ac04a-71f3-47e1-84d6-1eda28649369"
   },
   "outputs": [
    {
     "data": {
      "text/plain": [
       "(25000, 3)"
      ]
     },
     "execution_count": 4,
     "metadata": {},
     "output_type": "execute_result"
    }
   ],
   "source": [
    "sms_df.shape"
   ]
  },
  {
   "cell_type": "code",
   "execution_count": 5,
   "metadata": {
    "colab": {
     "base_uri": "https://localhost:8080/",
     "height": 202
    },
    "executionInfo": {
     "elapsed": 1278,
     "status": "ok",
     "timestamp": 1618747536690,
     "user": {
      "displayName": "Sayan Dey",
      "photoUrl": "https://lh3.googleusercontent.com/a-/AOh14GgqVHJ9o6-7idGiRbNNd4iVc1VjzvuPnwmAnvEtD6U=s64",
      "userId": "03603580465490055794"
     },
     "user_tz": -330
    },
    "id": "Tzvd3U-fmUWp",
    "outputId": "881d7ed3-62be-4bcc-f7a1-67520f1c1550"
   },
   "outputs": [
    {
     "data": {
      "text/html": [
       "<div>\n",
       "<style scoped>\n",
       "    .dataframe tbody tr th:only-of-type {\n",
       "        vertical-align: middle;\n",
       "    }\n",
       "\n",
       "    .dataframe tbody tr th {\n",
       "        vertical-align: top;\n",
       "    }\n",
       "\n",
       "    .dataframe thead th {\n",
       "        text-align: right;\n",
       "    }\n",
       "</style>\n",
       "<table border=\"1\" class=\"dataframe\">\n",
       "  <thead>\n",
       "    <tr style=\"text-align: right;\">\n",
       "      <th></th>\n",
       "      <th>id</th>\n",
       "      <th>sentiment</th>\n",
       "      <th>review</th>\n",
       "    </tr>\n",
       "  </thead>\n",
       "  <tbody>\n",
       "    <tr>\n",
       "      <th>0</th>\n",
       "      <td>5814_8</td>\n",
       "      <td>1</td>\n",
       "      <td>With all this stuff going down at the moment w...</td>\n",
       "    </tr>\n",
       "    <tr>\n",
       "      <th>1</th>\n",
       "      <td>2381_9</td>\n",
       "      <td>1</td>\n",
       "      <td>\\The Classic War of the Worlds\\\" by Timothy Hi...</td>\n",
       "    </tr>\n",
       "    <tr>\n",
       "      <th>2</th>\n",
       "      <td>7759_3</td>\n",
       "      <td>0</td>\n",
       "      <td>The film starts with a manager (Nicholas Bell)...</td>\n",
       "    </tr>\n",
       "    <tr>\n",
       "      <th>3</th>\n",
       "      <td>3630_4</td>\n",
       "      <td>0</td>\n",
       "      <td>It must be assumed that those who praised this...</td>\n",
       "    </tr>\n",
       "    <tr>\n",
       "      <th>4</th>\n",
       "      <td>9495_8</td>\n",
       "      <td>1</td>\n",
       "      <td>Superbly trashy and wondrously unpretentious 8...</td>\n",
       "    </tr>\n",
       "  </tbody>\n",
       "</table>\n",
       "</div>"
      ],
      "text/plain": [
       "       id  sentiment                                             review\n",
       "0  5814_8          1  With all this stuff going down at the moment w...\n",
       "1  2381_9          1  \\The Classic War of the Worlds\\\" by Timothy Hi...\n",
       "2  7759_3          0  The film starts with a manager (Nicholas Bell)...\n",
       "3  3630_4          0  It must be assumed that those who praised this...\n",
       "4  9495_8          1  Superbly trashy and wondrously unpretentious 8..."
      ]
     },
     "execution_count": 5,
     "metadata": {},
     "output_type": "execute_result"
    }
   ],
   "source": [
    "sms_df.head()"
   ]
  },
  {
   "cell_type": "code",
   "execution_count": 6,
   "metadata": {
    "executionInfo": {
     "elapsed": 788,
     "status": "ok",
     "timestamp": 1618747536691,
     "user": {
      "displayName": "Sayan Dey",
      "photoUrl": "https://lh3.googleusercontent.com/a-/AOh14GgqVHJ9o6-7idGiRbNNd4iVc1VjzvuPnwmAnvEtD6U=s64",
      "userId": "03603580465490055794"
     },
     "user_tz": -330
    },
    "id": "v-wdhCspw4lE"
   },
   "outputs": [],
   "source": [
    "from sklearn.model_selection import train_test_split"
   ]
  },
  {
   "cell_type": "code",
   "execution_count": 7,
   "metadata": {
    "executionInfo": {
     "elapsed": 706,
     "status": "ok",
     "timestamp": 1618747538430,
     "user": {
      "displayName": "Sayan Dey",
      "photoUrl": "https://lh3.googleusercontent.com/a-/AOh14GgqVHJ9o6-7idGiRbNNd4iVc1VjzvuPnwmAnvEtD6U=s64",
      "userId": "03603580465490055794"
     },
     "user_tz": -330
    },
    "id": "4mY8_xP6w9DW"
   },
   "outputs": [],
   "source": [
    "# split X and y into training and testing sets\n",
    "sms_train, sms_test, y_train, y_test = train_test_split(sms_df.review, sms_df.sentiment, random_state=2)"
   ]
  },
  {
   "cell_type": "code",
   "execution_count": 8,
   "metadata": {
    "colab": {
     "base_uri": "https://localhost:8080/"
    },
    "executionInfo": {
     "elapsed": 1120,
     "status": "ok",
     "timestamp": 1618747539410,
     "user": {
      "displayName": "Sayan Dey",
      "photoUrl": "https://lh3.googleusercontent.com/a-/AOh14GgqVHJ9o6-7idGiRbNNd4iVc1VjzvuPnwmAnvEtD6U=s64",
      "userId": "03603580465490055794"
     },
     "user_tz": -330
    },
    "id": "axydR7nwxd5c",
    "outputId": "c43df105-62c3-47e9-9b91-3ad1a282b20a"
   },
   "outputs": [
    {
     "name": "stdout",
     "output_type": "stream",
     "text": [
      "(18750,)\n",
      "(18750,)\n"
     ]
    }
   ],
   "source": [
    "#Traing data\n",
    "print(sms_train.shape)\n",
    "print(y_train.shape)"
   ]
  },
  {
   "cell_type": "code",
   "execution_count": 9,
   "metadata": {
    "colab": {
     "base_uri": "https://localhost:8080/"
    },
    "executionInfo": {
     "elapsed": 1029,
     "status": "ok",
     "timestamp": 1618747542890,
     "user": {
      "displayName": "Sayan Dey",
      "photoUrl": "https://lh3.googleusercontent.com/a-/AOh14GgqVHJ9o6-7idGiRbNNd4iVc1VjzvuPnwmAnvEtD6U=s64",
      "userId": "03603580465490055794"
     },
     "user_tz": -330
    },
    "id": "cMpz2JpNxjT1",
    "outputId": "f7dbb31c-df2f-4bc8-89b9-70e5dbdf820f"
   },
   "outputs": [
    {
     "name": "stdout",
     "output_type": "stream",
     "text": [
      "(6250,)\n",
      "(6250,)\n"
     ]
    }
   ],
   "source": [
    "#Test Data\n",
    "print(sms_test.shape)\n",
    "print(y_test.shape)"
   ]
  },
  {
   "cell_type": "markdown",
   "metadata": {
    "id": "pERZB-yYcMnQ"
   },
   "source": [
    "### 3. Tokenization & Vectorization"
   ]
  },
  {
   "cell_type": "markdown",
   "metadata": {
    "id": "HG5KU5JVwj7k"
   },
   "source": [
    "Using **CountVectorizer**, to get numeric features."
   ]
  },
  {
   "cell_type": "code",
   "execution_count": 10,
   "metadata": {
    "executionInfo": {
     "elapsed": 1081,
     "status": "ok",
     "timestamp": 1618747680106,
     "user": {
      "displayName": "Sayan Dey",
      "photoUrl": "https://lh3.googleusercontent.com/a-/AOh14GgqVHJ9o6-7idGiRbNNd4iVc1VjzvuPnwmAnvEtD6U=s64",
      "userId": "03603580465490055794"
     },
     "user_tz": -330
    },
    "id": "o-EAh3Lict_N"
   },
   "outputs": [],
   "source": [
    "# import and instantiate CountVectorizer (with the default parameters)\n",
    "from sklearn.feature_extraction.text import CountVectorizer,TfidfVectorizer\n",
    "cvect = CountVectorizer(stop_words='english')"
   ]
  },
  {
   "cell_type": "code",
   "execution_count": 11,
   "metadata": {
    "colab": {
     "base_uri": "https://localhost:8080/"
    },
    "executionInfo": {
     "elapsed": 5623,
     "status": "ok",
     "timestamp": 1618747684949,
     "user": {
      "displayName": "Sayan Dey",
      "photoUrl": "https://lh3.googleusercontent.com/a-/AOh14GgqVHJ9o6-7idGiRbNNd4iVc1VjzvuPnwmAnvEtD6U=s64",
      "userId": "03603580465490055794"
     },
     "user_tz": -330
    },
    "id": "wOIKxD1pdEg3",
    "outputId": "77664cf8-4e9c-4372-a572-fee1a354012b"
   },
   "outputs": [
    {
     "data": {
      "text/plain": [
       "66361"
      ]
     },
     "execution_count": 11,
     "metadata": {},
     "output_type": "execute_result"
    }
   ],
   "source": [
    "#Feed SMS data to CountVectorizer\n",
    "cvect.fit(sms_train)\n",
    "\n",
    "#Check the vocablury size\n",
    "len(cvect.vocabulary_)"
   ]
  },
  {
   "cell_type": "markdown",
   "metadata": {
    "id": "UK1zjGfHuP4U"
   },
   "source": [
    "Build Document-term Matrix (DTM)"
   ]
  },
  {
   "cell_type": "code",
   "execution_count": 12,
   "metadata": {
    "executionInfo": {
     "elapsed": 4488,
     "status": "ok",
     "timestamp": 1618747690760,
     "user": {
      "displayName": "Sayan Dey",
      "photoUrl": "https://lh3.googleusercontent.com/a-/AOh14GgqVHJ9o6-7idGiRbNNd4iVc1VjzvuPnwmAnvEtD6U=s64",
      "userId": "03603580465490055794"
     },
     "user_tz": -330
    },
    "id": "DrsvbF1XdefF"
   },
   "outputs": [],
   "source": [
    "#Convert Training SMS messages into Count Vectors\n",
    "X_train_ct = cvect.transform(sms_train)"
   ]
  },
  {
   "cell_type": "code",
   "execution_count": 13,
   "metadata": {
    "colab": {
     "base_uri": "https://localhost:8080/"
    },
    "executionInfo": {
     "elapsed": 4374,
     "status": "ok",
     "timestamp": 1618747690762,
     "user": {
      "displayName": "Sayan Dey",
      "photoUrl": "https://lh3.googleusercontent.com/a-/AOh14GgqVHJ9o6-7idGiRbNNd4iVc1VjzvuPnwmAnvEtD6U=s64",
      "userId": "03603580465490055794"
     },
     "user_tz": -330
    },
    "id": "7qDPMLuFduAx",
    "outputId": "756d93f1-ef98-4c97-d702-7711ecfe0708"
   },
   "outputs": [
    {
     "data": {
      "text/plain": [
       "(18750, 66361)"
      ]
     },
     "execution_count": 13,
     "metadata": {},
     "output_type": "execute_result"
    }
   ],
   "source": [
    "#Size of Document Term Matrix\n",
    "X_train_ct.shape"
   ]
  },
  {
   "cell_type": "markdown",
   "metadata": {
    "id": "twoJfGyXwj80"
   },
   "source": [
    "From the [scikit-learn documentation](http://scikit-learn.org/stable/modules/feature_extraction.html#text-feature-extraction):\n",
    "\n",
    "> As most documents will typically use a very small subset of the words used in the corpus, the resulting matrix will have **many feature values that are zeros** (typically more than 99% of them).\n",
    "\n",
    "> For instance, a collection of 10,000 short text documents (such as emails) will use a vocabulary with a size in the order of 100,000 unique words in total while each document will use 100 to 1000 unique words individually.\n",
    "\n",
    "> In order to be able to **store such a matrix in memory** but also to **speed up operations**, implementations will typically use a **sparse representation** such as the implementations available in the `scipy.sparse` package."
   ]
  },
  {
   "cell_type": "markdown",
   "metadata": {
    "id": "9zo2EwHYzAUr"
   },
   "source": [
    "Convert Test SMS also in numerical features"
   ]
  },
  {
   "cell_type": "code",
   "execution_count": 14,
   "metadata": {
    "executionInfo": {
     "elapsed": 4498,
     "status": "ok",
     "timestamp": 1618747692089,
     "user": {
      "displayName": "Sayan Dey",
      "photoUrl": "https://lh3.googleusercontent.com/a-/AOh14GgqVHJ9o6-7idGiRbNNd4iVc1VjzvuPnwmAnvEtD6U=s64",
      "userId": "03603580465490055794"
     },
     "user_tz": -330
    },
    "id": "HX8ht6-tzDuu"
   },
   "outputs": [],
   "source": [
    "X_test_ct = cvect.transform(sms_test)"
   ]
  },
  {
   "cell_type": "code",
   "execution_count": 15,
   "metadata": {
    "colab": {
     "base_uri": "https://localhost:8080/"
    },
    "executionInfo": {
     "elapsed": 4380,
     "status": "ok",
     "timestamp": 1618747692090,
     "user": {
      "displayName": "Sayan Dey",
      "photoUrl": "https://lh3.googleusercontent.com/a-/AOh14GgqVHJ9o6-7idGiRbNNd4iVc1VjzvuPnwmAnvEtD6U=s64",
      "userId": "03603580465490055794"
     },
     "user_tz": -330
    },
    "id": "zWjwfp9AzKL_",
    "outputId": "87892d2e-67f8-4cad-df19-5d873a1fd293"
   },
   "outputs": [
    {
     "name": "stdout",
     "output_type": "stream",
     "text": [
      "(18750, 66361)\n",
      "(6250, 66361)\n"
     ]
    }
   ],
   "source": [
    "print(X_train_ct.shape)\n",
    "print(X_test_ct.shape)"
   ]
  },
  {
   "cell_type": "code",
   "execution_count": 16,
   "metadata": {
    "colab": {
     "base_uri": "https://localhost:8080/"
    },
    "executionInfo": {
     "elapsed": 4129,
     "status": "ok",
     "timestamp": 1618747692090,
     "user": {
      "displayName": "Sayan Dey",
      "photoUrl": "https://lh3.googleusercontent.com/a-/AOh14GgqVHJ9o6-7idGiRbNNd4iVc1VjzvuPnwmAnvEtD6U=s64",
      "userId": "03603580465490055794"
     },
     "user_tz": -330
    },
    "id": "UBSCuofi1eXc",
    "outputId": "65ca7979-e3bb-4e4c-93cf-4402bcc1d9ef"
   },
   "outputs": [
    {
     "name": "stdout",
     "output_type": "stream",
     "text": [
      "Number of Features\n",
      "66361\n",
      "Training Accuracy\n",
      "0.91696\n",
      "Testing Accuracy\n",
      "0.85616\n"
     ]
    }
   ],
   "source": [
    "from sklearn.naive_bayes import MultinomialNB\n",
    "# use Naive Bayes to predict the star rating\n",
    "nb = MultinomialNB()\n",
    "nb.fit(X_train_ct, y_train)\n",
    "y_pred_class = nb.predict(X_test_ct)\n",
    "print(\"Number of Features\")\n",
    "print(X_train_ct.shape[1])\n",
    "print(\"Training Accuracy\")\n",
    "print(nb.score(X_train_ct,y_train))\n",
    "print(\"Testing Accuracy\")\n",
    "print(nb.score(X_test_ct,y_test))"
   ]
  },
  {
   "cell_type": "code",
   "execution_count": 21,
   "metadata": {
    "colab": {
     "base_uri": "https://localhost:8080/"
    },
    "executionInfo": {
     "elapsed": 28492,
     "status": "ok",
     "timestamp": 1618747716562,
     "user": {
      "displayName": "Sayan Dey",
      "photoUrl": "https://lh3.googleusercontent.com/a-/AOh14GgqVHJ9o6-7idGiRbNNd4iVc1VjzvuPnwmAnvEtD6U=s64",
      "userId": "03603580465490055794"
     },
     "user_tz": -330
    },
    "id": "L7ggsXI0ZHnL",
    "outputId": "28f5ae88-b4ab-40bb-c69a-2312ca98a17b"
   },
   "outputs": [
    {
     "name": "stdout",
     "output_type": "stream",
     "text": [
      "14426\n",
      "Training Accuracy\n",
      "0.8625066666666666\n",
      "Testing Accuracy\n",
      "0.83488\n",
      "[[2770  417]\n",
      " [ 615 2448]]\n",
      "              precision    recall  f1-score   support\n",
      "\n",
      "           0       0.82      0.87      0.84      3187\n",
      "           1       0.85      0.80      0.83      3063\n",
      "\n",
      "    accuracy                           0.83      6250\n",
      "   macro avg       0.84      0.83      0.83      6250\n",
      "weighted avg       0.84      0.83      0.83      6250\n",
      "\n"
     ]
    }
   ],
   "source": [
    "#Use a Sklearn Pipeline and perform CountVectoriser and SVC together\n",
    "from sklearn.pipeline import Pipeline\n",
    "from sklearn.metrics import confusion_matrix,classification_report\n",
    "from sklearn.model_selection import cross_val_score\n",
    "from textblob import TextBlob, Word\n",
    "# define a function that accepts text and returns a list of lemmas\n",
    "def split_into_lemmas(text):\n",
    "    text = text.lower()\n",
    "    words = TextBlob(text).words\n",
    "    return [word.lemmatize() for word in words]\n",
    "sms_df = pd.read_table('labeledTrainData.tsv.zip')\n",
    "sms_train, sms_test, y_train, y_test = train_test_split(sms_df.review, sms_df.sentiment, random_state=2)\n",
    "pipe = Pipeline((\n",
    "(\"cv\",CountVectorizer(analyzer=split_into_lemmas,stop_words='english',ngram_range=(1, 2),min_df=6)),\n",
    "(\"nb\",MultinomialNB())\n",
    "))\n",
    "pipe.fit(sms_train,y_train)\n",
    "print(len(pipe['cv'].vocabulary_))\n",
    "print(\"Training Accuracy\")\n",
    "print(pipe.score(sms_train,y_train))\n",
    "print(\"Testing Accuracy\")\n",
    "print(pipe.score(sms_test,y_test))\n",
    "predicted = pipe.predict(sms_test)\n",
    "print(confusion_matrix(y_test,predicted))\n",
    "print(classification_report(y_test,predicted))\n",
    "#scoresdt = cross_val_score(pipe,sms_train,y_train,cv=10)\n",
    "#print(scoresdt)\n",
    "#print(\"Average Cross Validation Accuracy\")\n",
    "#print(np.mean(scoresdt))"
   ]
  }
 ],
 "metadata": {
  "colab": {
   "collapsed_sections": [],
   "name": "1b. Text Classification Solutions - Movie Reviews.ipynb",
   "provenance": []
  },
  "kernelspec": {
   "display_name": "Python 3",
   "language": "python",
   "name": "python3"
  },
  "language_info": {
   "codemirror_mode": {
    "name": "ipython",
    "version": 3
   },
   "file_extension": ".py",
   "mimetype": "text/x-python",
   "name": "python",
   "nbconvert_exporter": "python",
   "pygments_lexer": "ipython3",
   "version": "3.7.6"
  }
 },
 "nbformat": 4,
 "nbformat_minor": 4
}
